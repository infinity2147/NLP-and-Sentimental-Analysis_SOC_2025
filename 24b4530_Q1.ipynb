{
 "cells": [
  {
   "cell_type": "code",
   "execution_count": 1,
   "id": "36dd7329-7bc4-493c-9c7e-f787dfc561b7",
   "metadata": {},
   "outputs": [],
   "source": [
    "text = \"Title: Big - A Timeless Tale of Growing Up Big is a heartwarming and timeless classic that tells the story of a young boy named Josh Baskin who makes a wish to be Big and wakes up the next morning in the body of an adult. As Josh navigates the challenges of adulthood while maintaining his childlike innocence, he lands a job at a toy company and learns valuable lessons about life, love, and the importance of staying true to oneself.Tom Hanks delivers a stellar performance as Josh, effortlessly capturing the essence of a child in an adult's body. His portrayal is both charming and poignant, making the audience root for him every step of the way. The film beautifully explores the joys and struggles of growing up, reminding viewers of the innocence and wonder of childhood.One of the standout aspects of Big is its ability to balance comedy with heartfelt moments. The humor is light-hearted and entertaining, providing plenty of laughs throughout the film. At the same time, the story delves into deeper themes such as the loss of innocence and the challenges of adulthood, adding layers of emotional depth to the narrative.The supporting cast, including Elizabeth Perkins as Susan Lawrence and Robert Loggia as MacMillan, also deliver strong performances, enhancing the overall appeal of the movie. The chemistry between the characters feels genuine, creating a sense of camaraderie and connection that is both engaging and relatable.Overall, Big is a delightful and uplifting film that has stood the test of time. Its universal themes and endearing characters make it a joy to watch for audiences of all ages. Whether you're looking for a feel-good movie or a nostalgic trip down memory lane, Big is sure to leave you with a smile on your face. Sit back, relax, and enjoy this charming tale of growing up and staying young at heart.\""
   ]
  },
  {
   "cell_type": "markdown",
   "id": "c7426955-41e6-462a-9765-f234aba36dbc",
   "metadata": {},
   "source": [
    "Tokenization"
   ]
  },
  {
   "cell_type": "code",
   "execution_count": 4,
   "id": "0662b870-9fb2-468f-ad94-aec9b7692fec",
   "metadata": {},
   "outputs": [
    {
     "name": "stderr",
     "output_type": "stream",
     "text": [
      "[nltk_data] Downloading package punkt_tab to\n",
      "[nltk_data]     /Users/anantasati/nltk_data...\n",
      "[nltk_data]   Unzipping tokenizers/punkt_tab.zip.\n"
     ]
    },
    {
     "data": {
      "text/plain": [
       "True"
      ]
     },
     "execution_count": 4,
     "metadata": {},
     "output_type": "execute_result"
    }
   ],
   "source": [
    "import nltk\n",
    "nltk.download('punkt_tab')"
   ]
  },
  {
   "cell_type": "code",
   "execution_count": 7,
   "id": "7b68beb9-97f4-47d4-8a50-6ef8900e1283",
   "metadata": {},
   "outputs": [
    {
     "data": {
      "text/plain": [
       "['Title',\n",
       " ':',\n",
       " 'Big',\n",
       " '-',\n",
       " 'A',\n",
       " 'Timeless',\n",
       " 'Tale',\n",
       " 'of',\n",
       " 'Growing',\n",
       " 'Up',\n",
       " 'Big',\n",
       " 'is',\n",
       " 'a',\n",
       " 'heartwarming',\n",
       " 'and',\n",
       " 'timeless',\n",
       " 'classic',\n",
       " 'that',\n",
       " 'tells',\n",
       " 'the',\n",
       " 'story',\n",
       " 'of',\n",
       " 'a',\n",
       " 'young',\n",
       " 'boy',\n",
       " 'named',\n",
       " 'Josh',\n",
       " 'Baskin',\n",
       " 'who',\n",
       " 'makes',\n",
       " 'a',\n",
       " 'wish',\n",
       " 'to',\n",
       " 'be',\n",
       " 'Big',\n",
       " 'and',\n",
       " 'wakes',\n",
       " 'up',\n",
       " 'the',\n",
       " 'next',\n",
       " 'morning',\n",
       " 'in',\n",
       " 'the',\n",
       " 'body',\n",
       " 'of',\n",
       " 'an',\n",
       " 'adult',\n",
       " '.',\n",
       " 'As',\n",
       " 'Josh',\n",
       " 'navigates',\n",
       " 'the',\n",
       " 'challenges',\n",
       " 'of',\n",
       " 'adulthood',\n",
       " 'while',\n",
       " 'maintaining',\n",
       " 'his',\n",
       " 'childlike',\n",
       " 'innocence',\n",
       " ',',\n",
       " 'he',\n",
       " 'lands',\n",
       " 'a',\n",
       " 'job',\n",
       " 'at',\n",
       " 'a',\n",
       " 'toy',\n",
       " 'company',\n",
       " 'and',\n",
       " 'learns',\n",
       " 'valuable',\n",
       " 'lessons',\n",
       " 'about',\n",
       " 'life',\n",
       " ',',\n",
       " 'love',\n",
       " ',',\n",
       " 'and',\n",
       " 'the',\n",
       " 'importance',\n",
       " 'of',\n",
       " 'staying',\n",
       " 'true',\n",
       " 'to',\n",
       " 'oneself.Tom',\n",
       " 'Hanks',\n",
       " 'delivers',\n",
       " 'a',\n",
       " 'stellar',\n",
       " 'performance',\n",
       " 'as',\n",
       " 'Josh',\n",
       " ',',\n",
       " 'effortlessly',\n",
       " 'capturing',\n",
       " 'the',\n",
       " 'essence',\n",
       " 'of',\n",
       " 'a',\n",
       " 'child',\n",
       " 'in',\n",
       " 'an',\n",
       " 'adult',\n",
       " \"'s\",\n",
       " 'body',\n",
       " '.',\n",
       " 'His',\n",
       " 'portrayal',\n",
       " 'is',\n",
       " 'both',\n",
       " 'charming',\n",
       " 'and',\n",
       " 'poignant',\n",
       " ',',\n",
       " 'making',\n",
       " 'the',\n",
       " 'audience',\n",
       " 'root',\n",
       " 'for',\n",
       " 'him',\n",
       " 'every',\n",
       " 'step',\n",
       " 'of',\n",
       " 'the',\n",
       " 'way',\n",
       " '.',\n",
       " 'The',\n",
       " 'film',\n",
       " 'beautifully',\n",
       " 'explores',\n",
       " 'the',\n",
       " 'joys',\n",
       " 'and',\n",
       " 'struggles',\n",
       " 'of',\n",
       " 'growing',\n",
       " 'up',\n",
       " ',',\n",
       " 'reminding',\n",
       " 'viewers',\n",
       " 'of',\n",
       " 'the',\n",
       " 'innocence',\n",
       " 'and',\n",
       " 'wonder',\n",
       " 'of',\n",
       " 'childhood.One',\n",
       " 'of',\n",
       " 'the',\n",
       " 'standout',\n",
       " 'aspects',\n",
       " 'of',\n",
       " 'Big',\n",
       " 'is',\n",
       " 'its',\n",
       " 'ability',\n",
       " 'to',\n",
       " 'balance',\n",
       " 'comedy',\n",
       " 'with',\n",
       " 'heartfelt',\n",
       " 'moments',\n",
       " '.',\n",
       " 'The',\n",
       " 'humor',\n",
       " 'is',\n",
       " 'light-hearted',\n",
       " 'and',\n",
       " 'entertaining',\n",
       " ',',\n",
       " 'providing',\n",
       " 'plenty',\n",
       " 'of',\n",
       " 'laughs',\n",
       " 'throughout',\n",
       " 'the',\n",
       " 'film',\n",
       " '.',\n",
       " 'At',\n",
       " 'the',\n",
       " 'same',\n",
       " 'time',\n",
       " ',',\n",
       " 'the',\n",
       " 'story',\n",
       " 'delves',\n",
       " 'into',\n",
       " 'deeper',\n",
       " 'themes',\n",
       " 'such',\n",
       " 'as',\n",
       " 'the',\n",
       " 'loss',\n",
       " 'of',\n",
       " 'innocence',\n",
       " 'and',\n",
       " 'the',\n",
       " 'challenges',\n",
       " 'of',\n",
       " 'adulthood',\n",
       " ',',\n",
       " 'adding',\n",
       " 'layers',\n",
       " 'of',\n",
       " 'emotional',\n",
       " 'depth',\n",
       " 'to',\n",
       " 'the',\n",
       " 'narrative.The',\n",
       " 'supporting',\n",
       " 'cast',\n",
       " ',',\n",
       " 'including',\n",
       " 'Elizabeth',\n",
       " 'Perkins',\n",
       " 'as',\n",
       " 'Susan',\n",
       " 'Lawrence',\n",
       " 'and',\n",
       " 'Robert',\n",
       " 'Loggia',\n",
       " 'as',\n",
       " 'MacMillan',\n",
       " ',',\n",
       " 'also',\n",
       " 'deliver',\n",
       " 'strong',\n",
       " 'performances',\n",
       " ',',\n",
       " 'enhancing',\n",
       " 'the',\n",
       " 'overall',\n",
       " 'appeal',\n",
       " 'of',\n",
       " 'the',\n",
       " 'movie',\n",
       " '.',\n",
       " 'The',\n",
       " 'chemistry',\n",
       " 'between',\n",
       " 'the',\n",
       " 'characters',\n",
       " 'feels',\n",
       " 'genuine',\n",
       " ',',\n",
       " 'creating',\n",
       " 'a',\n",
       " 'sense',\n",
       " 'of',\n",
       " 'camaraderie',\n",
       " 'and',\n",
       " 'connection',\n",
       " 'that',\n",
       " 'is',\n",
       " 'both',\n",
       " 'engaging',\n",
       " 'and',\n",
       " 'relatable.Overall',\n",
       " ',',\n",
       " 'Big',\n",
       " 'is',\n",
       " 'a',\n",
       " 'delightful',\n",
       " 'and',\n",
       " 'uplifting',\n",
       " 'film',\n",
       " 'that',\n",
       " 'has',\n",
       " 'stood',\n",
       " 'the',\n",
       " 'test',\n",
       " 'of',\n",
       " 'time',\n",
       " '.',\n",
       " 'Its',\n",
       " 'universal',\n",
       " 'themes',\n",
       " 'and',\n",
       " 'endearing',\n",
       " 'characters',\n",
       " 'make',\n",
       " 'it',\n",
       " 'a',\n",
       " 'joy',\n",
       " 'to',\n",
       " 'watch',\n",
       " 'for',\n",
       " 'audiences',\n",
       " 'of',\n",
       " 'all',\n",
       " 'ages',\n",
       " '.',\n",
       " 'Whether',\n",
       " 'you',\n",
       " \"'re\",\n",
       " 'looking',\n",
       " 'for',\n",
       " 'a',\n",
       " 'feel-good',\n",
       " 'movie',\n",
       " 'or',\n",
       " 'a',\n",
       " 'nostalgic',\n",
       " 'trip',\n",
       " 'down',\n",
       " 'memory',\n",
       " 'lane',\n",
       " ',',\n",
       " 'Big',\n",
       " 'is',\n",
       " 'sure',\n",
       " 'to',\n",
       " 'leave',\n",
       " 'you',\n",
       " 'with',\n",
       " 'a',\n",
       " 'smile',\n",
       " 'on',\n",
       " 'your',\n",
       " 'face',\n",
       " '.',\n",
       " 'Sit',\n",
       " 'back',\n",
       " ',',\n",
       " 'relax',\n",
       " ',',\n",
       " 'and',\n",
       " 'enjoy',\n",
       " 'this',\n",
       " 'charming',\n",
       " 'tale',\n",
       " 'of',\n",
       " 'growing',\n",
       " 'up',\n",
       " 'and',\n",
       " 'staying',\n",
       " 'young',\n",
       " 'at',\n",
       " 'heart',\n",
       " '.']"
      ]
     },
     "execution_count": 7,
     "metadata": {},
     "output_type": "execute_result"
    }
   ],
   "source": [
    "# Word tokenization\n",
    "word_tokens = nltk.word_tokenize(text)\n",
    "word_tokens\n"
   ]
  },
  {
   "cell_type": "code",
   "execution_count": 8,
   "id": "9c1711f8-80c0-4da5-8c29-bdc4b60d1bf6",
   "metadata": {},
   "outputs": [
    {
     "data": {
      "text/plain": [
       "['Title: Big - A Timeless Tale of Growing Up Big is a heartwarming and timeless classic that tells the story of a young boy named Josh Baskin who makes a wish to be Big and wakes up the next morning in the body of an adult.',\n",
       " \"As Josh navigates the challenges of adulthood while maintaining his childlike innocence, he lands a job at a toy company and learns valuable lessons about life, love, and the importance of staying true to oneself.Tom Hanks delivers a stellar performance as Josh, effortlessly capturing the essence of a child in an adult's body.\",\n",
       " 'His portrayal is both charming and poignant, making the audience root for him every step of the way.',\n",
       " 'The film beautifully explores the joys and struggles of growing up, reminding viewers of the innocence and wonder of childhood.One of the standout aspects of Big is its ability to balance comedy with heartfelt moments.',\n",
       " 'The humor is light-hearted and entertaining, providing plenty of laughs throughout the film.',\n",
       " 'At the same time, the story delves into deeper themes such as the loss of innocence and the challenges of adulthood, adding layers of emotional depth to the narrative.The supporting cast, including Elizabeth Perkins as Susan Lawrence and Robert Loggia as MacMillan, also deliver strong performances, enhancing the overall appeal of the movie.',\n",
       " 'The chemistry between the characters feels genuine, creating a sense of camaraderie and connection that is both engaging and relatable.Overall, Big is a delightful and uplifting film that has stood the test of time.',\n",
       " 'Its universal themes and endearing characters make it a joy to watch for audiences of all ages.',\n",
       " \"Whether you're looking for a feel-good movie or a nostalgic trip down memory lane, Big is sure to leave you with a smile on your face.\",\n",
       " 'Sit back, relax, and enjoy this charming tale of growing up and staying young at heart.']"
      ]
     },
     "execution_count": 8,
     "metadata": {},
     "output_type": "execute_result"
    }
   ],
   "source": [
    "# Sentence tokenization\n",
    "sentence_tokens = nltk.sent_tokenize(text)\n",
    "sentence_tokens"
   ]
  },
  {
   "cell_type": "markdown",
   "id": "5062eff3-8e65-403a-a7d3-5deaf2f329c9",
   "metadata": {},
   "source": [
    "Stop word removal"
   ]
  },
  {
   "cell_type": "code",
   "execution_count": 9,
   "id": "a569f900-57b4-42ef-ad17-d669774a35c2",
   "metadata": {},
   "outputs": [
    {
     "name": "stderr",
     "output_type": "stream",
     "text": [
      "[nltk_data] Downloading package stopwords to\n",
      "[nltk_data]     /Users/anantasati/nltk_data...\n",
      "[nltk_data]   Unzipping corpora/stopwords.zip.\n"
     ]
    },
    {
     "data": {
      "text/plain": [
       "True"
      ]
     },
     "execution_count": 9,
     "metadata": {},
     "output_type": "execute_result"
    }
   ],
   "source": [
    "from nltk.corpus import stopwords\n",
    "nltk.download('stopwords')"
   ]
  },
  {
   "cell_type": "code",
   "execution_count": 10,
   "id": "1781a180-7beb-4b5b-aaa2-93bff6032edd",
   "metadata": {},
   "outputs": [],
   "source": [
    "stop_words = set(stopwords.words('english'))"
   ]
  },
  {
   "cell_type": "code",
   "execution_count": 11,
   "id": "b5a36ddd-3f0f-4f75-9954-11160a3f1124",
   "metadata": {},
   "outputs": [
    {
     "name": "stdout",
     "output_type": "stream",
     "text": [
      "Tokens after Stop-Word Removal: ['Title', ':', 'Big', '-', 'Timeless', 'Tale', 'Growing', 'Big', 'heartwarming', 'timeless', 'classic', 'tells', 'story', 'young', 'boy', 'named', 'Josh', 'Baskin', 'makes', 'wish', 'Big', 'wakes', 'next', 'morning', 'body', 'adult', '.', 'Josh', 'navigates', 'challenges', 'adulthood', 'maintaining', 'childlike', 'innocence', ',', 'lands', 'job', 'toy', 'company', 'learns', 'valuable', 'lessons', 'life', ',', 'love', ',', 'importance', 'staying', 'true', 'oneself.Tom', 'Hanks', 'delivers', 'stellar', 'performance', 'Josh', ',', 'effortlessly', 'capturing', 'essence', 'child', 'adult', \"'s\", 'body', '.', 'portrayal', 'charming', 'poignant', ',', 'making', 'audience', 'root', 'every', 'step', 'way', '.', 'film', 'beautifully', 'explores', 'joys', 'struggles', 'growing', ',', 'reminding', 'viewers', 'innocence', 'wonder', 'childhood.One', 'standout', 'aspects', 'Big', 'ability', 'balance', 'comedy', 'heartfelt', 'moments', '.', 'humor', 'light-hearted', 'entertaining', ',', 'providing', 'plenty', 'laughs', 'throughout', 'film', '.', 'time', ',', 'story', 'delves', 'deeper', 'themes', 'loss', 'innocence', 'challenges', 'adulthood', ',', 'adding', 'layers', 'emotional', 'depth', 'narrative.The', 'supporting', 'cast', ',', 'including', 'Elizabeth', 'Perkins', 'Susan', 'Lawrence', 'Robert', 'Loggia', 'MacMillan', ',', 'also', 'deliver', 'strong', 'performances', ',', 'enhancing', 'overall', 'appeal', 'movie', '.', 'chemistry', 'characters', 'feels', 'genuine', ',', 'creating', 'sense', 'camaraderie', 'connection', 'engaging', 'relatable.Overall', ',', 'Big', 'delightful', 'uplifting', 'film', 'stood', 'test', 'time', '.', 'universal', 'themes', 'endearing', 'characters', 'make', 'joy', 'watch', 'audiences', 'ages', '.', 'Whether', \"'re\", 'looking', 'feel-good', 'movie', 'nostalgic', 'trip', 'memory', 'lane', ',', 'Big', 'sure', 'leave', 'smile', 'face', '.', 'Sit', 'back', ',', 'relax', ',', 'enjoy', 'charming', 'tale', 'growing', 'staying', 'young', 'heart', '.']\n"
     ]
    }
   ],
   "source": [
    "filtered_tokens = [word for word in word_tokens if word.lower() not in stop_words]\n",
    "print(\"Tokens after Stop-Word Removal:\", filtered_tokens)"
   ]
  },
  {
   "cell_type": "markdown",
   "id": "7fb6f2fa-17cb-4b31-84c0-58c466e7c0f1",
   "metadata": {},
   "source": [
    "Stemming"
   ]
  },
  {
   "cell_type": "code",
   "execution_count": 13,
   "id": "09ddf56f-c859-494e-97ee-dbb2e704e471",
   "metadata": {},
   "outputs": [
    {
     "name": "stderr",
     "output_type": "stream",
     "text": [
      "[nltk_data] Downloading package wordnet to\n",
      "[nltk_data]     /Users/anantasati/nltk_data...\n"
     ]
    },
    {
     "data": {
      "text/plain": [
       "True"
      ]
     },
     "execution_count": 13,
     "metadata": {},
     "output_type": "execute_result"
    }
   ],
   "source": [
    "from nltk.stem import PorterStemmer, WordNetLemmatizer\n",
    "nltk.download('wordnet')"
   ]
  },
  {
   "cell_type": "code",
   "execution_count": 14,
   "id": "bcb8130c-6e5a-45b6-be7a-3e9e2d2cbe17",
   "metadata": {},
   "outputs": [],
   "source": [
    "# Sample words\n",
    "words = [\"running\", \"studies\", \"better\", \"geese\", \"wolves\"]\n",
    "\n",
    "# Initialize stemmer and lemmatizer\n",
    "stemmer = PorterStemmer()\n",
    "lemmatizer = WordNetLemmatizer()"
   ]
  },
  {
   "cell_type": "code",
   "execution_count": 27,
   "id": "81ee898d-0a5d-44b0-803f-b9b68317c35c",
   "metadata": {},
   "outputs": [
    {
     "name": "stdout",
     "output_type": "stream",
     "text": [
      "Word\t\tStem\t\tLemma\n",
      "----------------------------------------\n",
      "running\t\trun\t\trunning\n",
      "studies\t\tstudi\t\tstudy\n",
      "better\t\tbetter\t\tbetter\n",
      "geese\t\tgees\t\tgoose\n",
      "wolves\t\twolv\t\twolf\n"
     ]
    }
   ],
   "source": [
    "# Perform stemming and lemmatization\n",
    "print(\"Word\\t\\tStem\\t\\tLemma\")\n",
    "print(\"-\" * 40)\n",
    "stem_list = []\n",
    "lemma_list = []\n",
    "for word in words:\n",
    "    stem_list.append(stemmer.stem(word))\n",
    "    lemma_list.append(lemmatizer.lemmatize(word))  # Assuming verb for consistency\n",
    "for i in range(len(words)):\n",
    "    print(f\"{words[i]}\\t\\t{stem_list[i]}\\t\\t{lemma_list[i]}\")"
   ]
  },
  {
   "cell_type": "code",
   "execution_count": 24,
   "id": "c3339cb4-bd08-46c0-af45-ac2aa43d938e",
   "metadata": {},
   "outputs": [
    {
     "name": "stderr",
     "output_type": "stream",
     "text": [
      "[nltk_data] Downloading package averaged_perceptron_tagger_eng to\n",
      "[nltk_data]     /Users/anantasati/nltk_data...\n",
      "[nltk_data]   Unzipping taggers/averaged_perceptron_tagger_eng.zip.\n"
     ]
    },
    {
     "data": {
      "text/plain": [
       "True"
      ]
     },
     "execution_count": 24,
     "metadata": {},
     "output_type": "execute_result"
    }
   ],
   "source": [
    "import nltk\n",
    "nltk.download('averaged_perceptron_tagger_eng')  # Download POS tagger"
   ]
  },
  {
   "cell_type": "code",
   "execution_count": 25,
   "id": "9e0dfd47-4aa6-4193-ba6c-6da72df1c155",
   "metadata": {},
   "outputs": [
    {
     "name": "stdout",
     "output_type": "stream",
     "text": [
      "POS Tags: [('Title', 'NN'), (':', ':'), ('Big', 'JJ'), ('-', ':'), ('Timeless', 'JJ'), ('Tale', 'NNP'), ('Growing', 'VBG'), ('Big', 'NNP'), ('heartwarming', 'NN'), ('timeless', 'NN'), ('classic', 'JJ'), ('tells', 'VBZ'), ('story', 'NN'), ('young', 'JJ'), ('boy', 'NN'), ('named', 'VBN'), ('Josh', 'NNP'), ('Baskin', 'NNP'), ('makes', 'VBZ'), ('wish', 'JJ'), ('Big', 'NNP'), ('wakes', 'NNS'), ('next', 'IN'), ('morning', 'NN'), ('body', 'NN'), ('adult', 'NN'), ('.', '.'), ('Josh', 'NNP'), ('navigates', 'VBZ'), ('challenges', 'NNS'), ('adulthood', 'VBD'), ('maintaining', 'VBG'), ('childlike', 'NN'), ('innocence', 'NN'), (',', ','), ('lands', 'VBZ'), ('job', 'NN'), ('toy', 'JJ'), ('company', 'NN'), ('learns', 'VBZ'), ('valuable', 'JJ'), ('lessons', 'NNS'), ('life', 'NN'), (',', ','), ('love', 'VB'), (',', ','), ('importance', 'VB'), ('staying', 'VBG'), ('true', 'JJ'), ('oneself.Tom', 'JJ'), ('Hanks', 'NNP'), ('delivers', 'NNS'), ('stellar', 'JJ'), ('performance', 'NN'), ('Josh', 'NNP'), (',', ','), ('effortlessly', 'RB'), ('capturing', 'VBG'), ('essence', 'NN'), ('child', 'NN'), ('adult', 'NN'), (\"'s\", 'POS'), ('body', 'NN'), ('.', '.'), ('portrayal', 'JJ'), ('charming', 'VBG'), ('poignant', 'NN'), (',', ','), ('making', 'VBG'), ('audience', 'NN'), ('root', 'NN'), ('every', 'DT'), ('step', 'NN'), ('way', 'NN'), ('.', '.'), ('film', 'NN'), ('beautifully', 'RB'), ('explores', 'VBZ'), ('joys', 'JJ'), ('struggles', 'NNS'), ('growing', 'VBG'), (',', ','), ('reminding', 'VBG'), ('viewers', 'NNS'), ('innocence', 'NN'), ('wonder', 'VBP'), ('childhood.One', 'NN'), ('standout', 'NN'), ('aspects', 'VBZ'), ('Big', 'NNP'), ('ability', 'NN'), ('balance', 'NN'), ('comedy', 'NN'), ('heartfelt', 'VBD'), ('moments', 'NNS'), ('.', '.'), ('humor', 'NN'), ('light-hearted', 'JJ'), ('entertaining', 'NN'), (',', ','), ('providing', 'VBG'), ('plenty', 'NN'), ('laughs', 'VBZ'), ('throughout', 'IN'), ('film', 'NN'), ('.', '.'), ('time', 'NN'), (',', ','), ('story', 'NN'), ('delves', 'NNS'), ('deeper', 'JJR'), ('themes', 'NNS'), ('loss', 'NN'), ('innocence', 'NN'), ('challenges', 'NNS'), ('adulthood', 'NN'), (',', ','), ('adding', 'VBG'), ('layers', 'NNS'), ('emotional', 'JJ'), ('depth', 'NN'), ('narrative.The', 'IN'), ('supporting', 'VBG'), ('cast', 'NN'), (',', ','), ('including', 'VBG'), ('Elizabeth', 'NNP'), ('Perkins', 'NNP'), ('Susan', 'NNP'), ('Lawrence', 'NNP'), ('Robert', 'NNP'), ('Loggia', 'NNP'), ('MacMillan', 'NNP'), (',', ','), ('also', 'RB'), ('deliver', 'VB'), ('strong', 'JJ'), ('performances', 'NNS'), (',', ','), ('enhancing', 'VBG'), ('overall', 'JJ'), ('appeal', 'JJ'), ('movie', 'NN'), ('.', '.'), ('chemistry', 'NN'), ('characters', 'NNS'), ('feels', 'NNS'), ('genuine', 'VBP'), (',', ','), ('creating', 'VBG'), ('sense', 'NN'), ('camaraderie', 'NN'), ('connection', 'NN'), ('engaging', 'VBG'), ('relatable.Overall', 'NN'), (',', ','), ('Big', 'NNP'), ('delightful', 'NN'), ('uplifting', 'NN'), ('film', 'NN'), ('stood', 'VBD'), ('test', 'NN'), ('time', 'NN'), ('.', '.'), ('universal', 'JJ'), ('themes', 'NNS'), ('endearing', 'VBG'), ('characters', 'NNS'), ('make', 'VBP'), ('joy', 'NN'), ('watch', 'NN'), ('audiences', 'NNS'), ('ages', 'NNS'), ('.', '.'), ('Whether', 'NNP'), (\"'re\", 'VBP'), ('looking', 'VBG'), ('feel-good', 'JJ'), ('movie', 'NN'), ('nostalgic', 'JJ'), ('trip', 'NN'), ('memory', 'NN'), ('lane', 'NN'), (',', ','), ('Big', 'NNP'), ('sure', 'NN'), ('leave', 'VBP'), ('smile', 'JJ'), ('face', 'NN'), ('.', '.'), ('Sit', 'NNP'), ('back', 'RB'), (',', ','), ('relax', 'NN'), (',', ','), ('enjoy', 'VB'), ('charming', 'VBG'), ('tale', 'JJ'), ('growing', 'VBG'), ('staying', 'VBG'), ('young', 'JJ'), ('heart', 'NN'), ('.', '.')]\n"
     ]
    }
   ],
   "source": [
    "#Perform POS tagging\n",
    "pos_tags = nltk.pos_tag(filtered_tokens)\n",
    "print(\"POS Tags:\", pos_tags)"
   ]
  },
  {
   "cell_type": "code",
   "execution_count": null,
   "id": "8db28bea-1323-4bcb-9a5e-481d9b643ac1",
   "metadata": {},
   "outputs": [],
   "source": []
  }
 ],
 "metadata": {
  "kernelspec": {
   "display_name": "Python (rag_env)",
   "language": "python",
   "name": "rag_env"
  },
  "language_info": {
   "codemirror_mode": {
    "name": "ipython",
    "version": 3
   },
   "file_extension": ".py",
   "mimetype": "text/x-python",
   "name": "python",
   "nbconvert_exporter": "python",
   "pygments_lexer": "ipython3",
   "version": "3.12.4"
  }
 },
 "nbformat": 4,
 "nbformat_minor": 5
}
